{
 "cells": [
  {
   "cell_type": "markdown",
   "metadata": {
    "colab_type": "text",
    "id": "DLXNv02Gaolx"
   },
   "source": [
    "# I. Overview\n",
    "\n",
    "The objective of this assignment is to implement deep learning. I loaded the classification data, partitioned it based on requirements, visualized the data, trained it using neural networks and the results are plotted. I have used various network structures with various number of nodes in each hidden layers. The layers are analyzed based on various networks. Tensor flow has been used to train and use the deep neural networks. Other task is to know the information about which network should be used for a problem."
   ]
  },
  {
   "cell_type": "code",
   "execution_count": 1,
   "metadata": {
    "colab": {
     "base_uri": "https://localhost:8080/",
     "height": 81
    },
    "colab_type": "code",
    "id": "Ra4L1qLbTFj7",
    "outputId": "ae31cde6-f24f-4f8e-809f-5d06af7c2215"
   },
   "outputs": [
    {
     "data": {
      "text/html": [
       "<p style=\"color: red;\">\n",
       "The default version of TensorFlow in Colab will soon switch to TensorFlow 2.x.<br>\n",
       "We recommend you <a href=\"https://www.tensorflow.org/guide/migrate\" target=\"_blank\">upgrade</a> now \n",
       "or ensure your notebook will continue to use TensorFlow 1.x via the <code>%tensorflow_version 1.x</code> magic:\n",
       "<a href=\"https://colab.research.google.com/notebooks/tensorflow_version.ipynb\" target=\"_blank\">more info</a>.</p>\n"
      ],
      "text/plain": [
       "<IPython.core.display.HTML object>"
      ]
     },
     "metadata": {
      "tags": []
     },
     "output_type": "display_data"
    }
   ],
   "source": [
    "import numpy as np\n",
    "import pandas as pd\n",
    "import warnings\n",
    "warnings.filterwarnings(\"ignore\")\n",
    "import tensorflow as tf\n",
    "import seaborn as sns"
   ]
  },
  {
   "cell_type": "markdown",
   "metadata": {
    "colab_type": "text",
    "id": "2VlzB3zmbNi5"
   },
   "source": [
    "# Data\n",
    "\n",
    "## Description\n",
    "\n",
    "In this dataset we have to predict the **sales price of houses in King County, Seattle**. It includes homes sold between May 2014 and May 2015. Before doing anything we should first know about the dataset what it contains what are its features and what is the structure of data.\n",
    "\n",
    "The dataset cantains 20 house features plus the price, along with 21613 observations.\n",
    "\n",
    "The description for the 20 features is given below:\n",
    "\n",
    "1. id :- It is the unique numeric number assigned to each house being sold.\n",
    "2. date :- It is the date on which the house was sold out.\n",
    "3. price:- It is the price of house which we have to predict so this is our target variable and aprat from it are our features.\n",
    "4. bedrooms :- It determines number of bedrooms in a house.\n",
    "5. bathrooms :- It determines number of bathrooms in a bedroom of a house.\n",
    "6. sqft_living :- It is the measurement variable which determines the measurement of house in square foot.\n",
    "7. sqft_lot : It is also the measurement variable which determines square foot of the lot.\n",
    "8. floors: It determines total floors means levels of house.\n",
    "9. waterfront : This feature determines whether a house has a view to waterfront 0 means no 1 means yes.\n",
    "10. view : This feature determines whether a house has been viewed or not 0 means no 1 means yes.\n",
    "11. condition : It determines the overall condition of a house on a scale of 1 to 5.\n",
    "12. grade : It determines the overall grade given to the housing unit, based on King County grading system on a scale of 1 to 11\n",
    "13. sqft_above : It determines square footage of house apart from basement.\n",
    "14. sqft_basement : It determines square footage of the basement of the house.\n",
    "15. yr_built : It detrmines the date of building of the house.\n",
    "16. yr_renovated : It detrmines year of renovation of house.\n",
    "17. zipcode : It determines the zipcode of the location of the house.\n",
    "18. lat : It determines the latitude of the location of the house.\n",
    "19. long : It determines the longitude of the location of the house.\n",
    "20. sqft_living15 : Living room area in 2015(implies-- some renovations)\n",
    "21. sqft_lot15 : lotSize area in 2015(implies-- some renovations)\n",
    "\n",
    "By observing the data, we can know that the **price is dependent on various features** like bedrooms(which is most dependent feature), bathrooms, sqft_living(second most important feature), sqft_lot, floors etc. The price is also dependent on the location of the house where it is present. The other features like waterfront, view are less dependent on the price. Of all the records, there are **no missing values, which helps us creating better model.** \n",
    "\n",
    "First, we **import** the required libraries like pandas, numpy, seaborn, matplotlib. Now import the **csv file.** Now we should get to know how the data is, what datatype using info function. We observe that date is in 'object' format. To know the no of rows and columns we use shape function. Describe the dataframe to know the mean, minumum, ,maximum, standard deviation, percentiles. \n",
    "\n",
    "Now, find if there are any null values. Luckily, there are no null values which helps us in getting the accurate model. We drop the unnecessary columns ike 'lat', 'long', 'view'. **There is an outlier in the given data.** Although it is not exactly a outlier, i would like to remove the value so that we can obtain better graph. The **no of bedrooms is '33'** for one observation. I removed that value. \n",
    "\n",
    "The **date is in object format, so it is converted into date format** using pandas. Now, the graphs are plotted for better understanding or better analysis. The graphs like relplot, boxplot, heatplot, lineplot, catplot are used for analysis.\n"
   ]
  },
  {
   "cell_type": "code",
   "execution_count": 2,
   "metadata": {
    "colab": {
     "base_uri": "https://localhost:8080/",
     "height": 226
    },
    "colab_type": "code",
    "id": "yiU8_pn5TKcK",
    "outputId": "258c6ed7-0819-439d-836b-4d2b5925255c"
   },
   "outputs": [
    {
     "data": {
      "text/html": [
       "<div>\n",
       "<style scoped>\n",
       "    .dataframe tbody tr th:only-of-type {\n",
       "        vertical-align: middle;\n",
       "    }\n",
       "\n",
       "    .dataframe tbody tr th {\n",
       "        vertical-align: top;\n",
       "    }\n",
       "\n",
       "    .dataframe thead th {\n",
       "        text-align: right;\n",
       "    }\n",
       "</style>\n",
       "<table border=\"1\" class=\"dataframe\">\n",
       "  <thead>\n",
       "    <tr style=\"text-align: right;\">\n",
       "      <th></th>\n",
       "      <th>id</th>\n",
       "      <th>date</th>\n",
       "      <th>price</th>\n",
       "      <th>bedrooms</th>\n",
       "      <th>bathrooms</th>\n",
       "      <th>sqft_living</th>\n",
       "      <th>sqft_lot</th>\n",
       "      <th>floors</th>\n",
       "      <th>waterfront</th>\n",
       "      <th>view</th>\n",
       "      <th>condition</th>\n",
       "      <th>grade</th>\n",
       "      <th>sqft_above</th>\n",
       "      <th>sqft_basement</th>\n",
       "      <th>yr_built</th>\n",
       "      <th>yr_renovated</th>\n",
       "      <th>zipcode</th>\n",
       "      <th>lat</th>\n",
       "      <th>long</th>\n",
       "      <th>sqft_living15</th>\n",
       "      <th>sqft_lot15</th>\n",
       "    </tr>\n",
       "  </thead>\n",
       "  <tbody>\n",
       "    <tr>\n",
       "      <th>0</th>\n",
       "      <td>7129300520</td>\n",
       "      <td>20141013T000000</td>\n",
       "      <td>221900.0</td>\n",
       "      <td>3</td>\n",
       "      <td>1.00</td>\n",
       "      <td>1180</td>\n",
       "      <td>5650</td>\n",
       "      <td>1.0</td>\n",
       "      <td>0</td>\n",
       "      <td>0</td>\n",
       "      <td>3</td>\n",
       "      <td>7</td>\n",
       "      <td>1180</td>\n",
       "      <td>0</td>\n",
       "      <td>1955</td>\n",
       "      <td>0</td>\n",
       "      <td>98178</td>\n",
       "      <td>47.5112</td>\n",
       "      <td>-122.257</td>\n",
       "      <td>1340</td>\n",
       "      <td>5650</td>\n",
       "    </tr>\n",
       "    <tr>\n",
       "      <th>1</th>\n",
       "      <td>6414100192</td>\n",
       "      <td>20141209T000000</td>\n",
       "      <td>538000.0</td>\n",
       "      <td>3</td>\n",
       "      <td>2.25</td>\n",
       "      <td>2570</td>\n",
       "      <td>7242</td>\n",
       "      <td>2.0</td>\n",
       "      <td>0</td>\n",
       "      <td>0</td>\n",
       "      <td>3</td>\n",
       "      <td>7</td>\n",
       "      <td>2170</td>\n",
       "      <td>400</td>\n",
       "      <td>1951</td>\n",
       "      <td>1991</td>\n",
       "      <td>98125</td>\n",
       "      <td>47.7210</td>\n",
       "      <td>-122.319</td>\n",
       "      <td>1690</td>\n",
       "      <td>7639</td>\n",
       "    </tr>\n",
       "    <tr>\n",
       "      <th>2</th>\n",
       "      <td>5631500400</td>\n",
       "      <td>20150225T000000</td>\n",
       "      <td>180000.0</td>\n",
       "      <td>2</td>\n",
       "      <td>1.00</td>\n",
       "      <td>770</td>\n",
       "      <td>10000</td>\n",
       "      <td>1.0</td>\n",
       "      <td>0</td>\n",
       "      <td>0</td>\n",
       "      <td>3</td>\n",
       "      <td>6</td>\n",
       "      <td>770</td>\n",
       "      <td>0</td>\n",
       "      <td>1933</td>\n",
       "      <td>0</td>\n",
       "      <td>98028</td>\n",
       "      <td>47.7379</td>\n",
       "      <td>-122.233</td>\n",
       "      <td>2720</td>\n",
       "      <td>8062</td>\n",
       "    </tr>\n",
       "    <tr>\n",
       "      <th>3</th>\n",
       "      <td>2487200875</td>\n",
       "      <td>20141209T000000</td>\n",
       "      <td>604000.0</td>\n",
       "      <td>4</td>\n",
       "      <td>3.00</td>\n",
       "      <td>1960</td>\n",
       "      <td>5000</td>\n",
       "      <td>1.0</td>\n",
       "      <td>0</td>\n",
       "      <td>0</td>\n",
       "      <td>5</td>\n",
       "      <td>7</td>\n",
       "      <td>1050</td>\n",
       "      <td>910</td>\n",
       "      <td>1965</td>\n",
       "      <td>0</td>\n",
       "      <td>98136</td>\n",
       "      <td>47.5208</td>\n",
       "      <td>-122.393</td>\n",
       "      <td>1360</td>\n",
       "      <td>5000</td>\n",
       "    </tr>\n",
       "    <tr>\n",
       "      <th>4</th>\n",
       "      <td>1954400510</td>\n",
       "      <td>20150218T000000</td>\n",
       "      <td>510000.0</td>\n",
       "      <td>3</td>\n",
       "      <td>2.00</td>\n",
       "      <td>1680</td>\n",
       "      <td>8080</td>\n",
       "      <td>1.0</td>\n",
       "      <td>0</td>\n",
       "      <td>0</td>\n",
       "      <td>3</td>\n",
       "      <td>8</td>\n",
       "      <td>1680</td>\n",
       "      <td>0</td>\n",
       "      <td>1987</td>\n",
       "      <td>0</td>\n",
       "      <td>98074</td>\n",
       "      <td>47.6168</td>\n",
       "      <td>-122.045</td>\n",
       "      <td>1800</td>\n",
       "      <td>7503</td>\n",
       "    </tr>\n",
       "  </tbody>\n",
       "</table>\n",
       "</div>"
      ],
      "text/plain": [
       "           id             date     price  ...     long  sqft_living15  sqft_lot15\n",
       "0  7129300520  20141013T000000  221900.0  ... -122.257           1340        5650\n",
       "1  6414100192  20141209T000000  538000.0  ... -122.319           1690        7639\n",
       "2  5631500400  20150225T000000  180000.0  ... -122.233           2720        8062\n",
       "3  2487200875  20141209T000000  604000.0  ... -122.393           1360        5000\n",
       "4  1954400510  20150218T000000  510000.0  ... -122.045           1800        7503\n",
       "\n",
       "[5 rows x 21 columns]"
      ]
     },
     "execution_count": 2,
     "metadata": {
      "tags": []
     },
     "output_type": "execute_result"
    }
   ],
   "source": [
    "data = pd.read_csv('/content/kc_house_data.csv')\n",
    "data.head()"
   ]
  },
  {
   "cell_type": "code",
   "execution_count": 3,
   "metadata": {
    "colab": {
     "base_uri": "https://localhost:8080/",
     "height": 443
    },
    "colab_type": "code",
    "id": "l73sgdRHX2V5",
    "outputId": "9075efd2-99c0-41d3-de65-09012b26c82d"
   },
   "outputs": [
    {
     "data": {
      "text/html": [
       "<div>\n",
       "<style scoped>\n",
       "    .dataframe tbody tr th:only-of-type {\n",
       "        vertical-align: middle;\n",
       "    }\n",
       "\n",
       "    .dataframe tbody tr th {\n",
       "        vertical-align: top;\n",
       "    }\n",
       "\n",
       "    .dataframe thead th {\n",
       "        text-align: right;\n",
       "    }\n",
       "</style>\n",
       "<table border=\"1\" class=\"dataframe\">\n",
       "  <thead>\n",
       "    <tr style=\"text-align: right;\">\n",
       "      <th></th>\n",
       "      <th>id</th>\n",
       "      <th>date</th>\n",
       "      <th>price</th>\n",
       "      <th>bedrooms</th>\n",
       "      <th>bathrooms</th>\n",
       "      <th>sqft_living</th>\n",
       "      <th>sqft_lot</th>\n",
       "      <th>floors</th>\n",
       "      <th>waterfront</th>\n",
       "      <th>view</th>\n",
       "      <th>condition</th>\n",
       "      <th>grade</th>\n",
       "      <th>sqft_above</th>\n",
       "      <th>sqft_basement</th>\n",
       "      <th>yr_built</th>\n",
       "      <th>yr_renovated</th>\n",
       "      <th>zipcode</th>\n",
       "      <th>lat</th>\n",
       "      <th>long</th>\n",
       "      <th>sqft_living15</th>\n",
       "      <th>sqft_lot15</th>\n",
       "    </tr>\n",
       "  </thead>\n",
       "  <tbody>\n",
       "    <tr>\n",
       "      <th>0</th>\n",
       "      <td>7129300520</td>\n",
       "      <td>20141013T000000</td>\n",
       "      <td>221,900</td>\n",
       "      <td>3</td>\n",
       "      <td>1</td>\n",
       "      <td>1180</td>\n",
       "      <td>5650</td>\n",
       "      <td>1</td>\n",
       "      <td>0</td>\n",
       "      <td>0</td>\n",
       "      <td>3</td>\n",
       "      <td>7</td>\n",
       "      <td>1180</td>\n",
       "      <td>0</td>\n",
       "      <td>1955</td>\n",
       "      <td>0</td>\n",
       "      <td>98178</td>\n",
       "      <td>48</td>\n",
       "      <td>-122</td>\n",
       "      <td>1340</td>\n",
       "      <td>5650</td>\n",
       "    </tr>\n",
       "    <tr>\n",
       "      <th>1</th>\n",
       "      <td>6414100192</td>\n",
       "      <td>20141209T000000</td>\n",
       "      <td>538,000</td>\n",
       "      <td>3</td>\n",
       "      <td>2</td>\n",
       "      <td>2570</td>\n",
       "      <td>7242</td>\n",
       "      <td>2</td>\n",
       "      <td>0</td>\n",
       "      <td>0</td>\n",
       "      <td>3</td>\n",
       "      <td>7</td>\n",
       "      <td>2170</td>\n",
       "      <td>400</td>\n",
       "      <td>1951</td>\n",
       "      <td>1991</td>\n",
       "      <td>98125</td>\n",
       "      <td>48</td>\n",
       "      <td>-122</td>\n",
       "      <td>1690</td>\n",
       "      <td>7639</td>\n",
       "    </tr>\n",
       "    <tr>\n",
       "      <th>2</th>\n",
       "      <td>5631500400</td>\n",
       "      <td>20150225T000000</td>\n",
       "      <td>180,000</td>\n",
       "      <td>2</td>\n",
       "      <td>1</td>\n",
       "      <td>770</td>\n",
       "      <td>10000</td>\n",
       "      <td>1</td>\n",
       "      <td>0</td>\n",
       "      <td>0</td>\n",
       "      <td>3</td>\n",
       "      <td>6</td>\n",
       "      <td>770</td>\n",
       "      <td>0</td>\n",
       "      <td>1933</td>\n",
       "      <td>0</td>\n",
       "      <td>98028</td>\n",
       "      <td>48</td>\n",
       "      <td>-122</td>\n",
       "      <td>2720</td>\n",
       "      <td>8062</td>\n",
       "    </tr>\n",
       "    <tr>\n",
       "      <th>3</th>\n",
       "      <td>2487200875</td>\n",
       "      <td>20141209T000000</td>\n",
       "      <td>604,000</td>\n",
       "      <td>4</td>\n",
       "      <td>3</td>\n",
       "      <td>1960</td>\n",
       "      <td>5000</td>\n",
       "      <td>1</td>\n",
       "      <td>0</td>\n",
       "      <td>0</td>\n",
       "      <td>5</td>\n",
       "      <td>7</td>\n",
       "      <td>1050</td>\n",
       "      <td>910</td>\n",
       "      <td>1965</td>\n",
       "      <td>0</td>\n",
       "      <td>98136</td>\n",
       "      <td>48</td>\n",
       "      <td>-122</td>\n",
       "      <td>1360</td>\n",
       "      <td>5000</td>\n",
       "    </tr>\n",
       "    <tr>\n",
       "      <th>4</th>\n",
       "      <td>1954400510</td>\n",
       "      <td>20150218T000000</td>\n",
       "      <td>510,000</td>\n",
       "      <td>3</td>\n",
       "      <td>2</td>\n",
       "      <td>1680</td>\n",
       "      <td>8080</td>\n",
       "      <td>1</td>\n",
       "      <td>0</td>\n",
       "      <td>0</td>\n",
       "      <td>3</td>\n",
       "      <td>8</td>\n",
       "      <td>1680</td>\n",
       "      <td>0</td>\n",
       "      <td>1987</td>\n",
       "      <td>0</td>\n",
       "      <td>98074</td>\n",
       "      <td>48</td>\n",
       "      <td>-122</td>\n",
       "      <td>1800</td>\n",
       "      <td>7503</td>\n",
       "    </tr>\n",
       "    <tr>\n",
       "      <th>...</th>\n",
       "      <td>...</td>\n",
       "      <td>...</td>\n",
       "      <td>...</td>\n",
       "      <td>...</td>\n",
       "      <td>...</td>\n",
       "      <td>...</td>\n",
       "      <td>...</td>\n",
       "      <td>...</td>\n",
       "      <td>...</td>\n",
       "      <td>...</td>\n",
       "      <td>...</td>\n",
       "      <td>...</td>\n",
       "      <td>...</td>\n",
       "      <td>...</td>\n",
       "      <td>...</td>\n",
       "      <td>...</td>\n",
       "      <td>...</td>\n",
       "      <td>...</td>\n",
       "      <td>...</td>\n",
       "      <td>...</td>\n",
       "      <td>...</td>\n",
       "    </tr>\n",
       "    <tr>\n",
       "      <th>21608</th>\n",
       "      <td>263000018</td>\n",
       "      <td>20140521T000000</td>\n",
       "      <td>360,000</td>\n",
       "      <td>3</td>\n",
       "      <td>2</td>\n",
       "      <td>1530</td>\n",
       "      <td>1131</td>\n",
       "      <td>3</td>\n",
       "      <td>0</td>\n",
       "      <td>0</td>\n",
       "      <td>3</td>\n",
       "      <td>8</td>\n",
       "      <td>1530</td>\n",
       "      <td>0</td>\n",
       "      <td>2009</td>\n",
       "      <td>0</td>\n",
       "      <td>98103</td>\n",
       "      <td>48</td>\n",
       "      <td>-122</td>\n",
       "      <td>1530</td>\n",
       "      <td>1509</td>\n",
       "    </tr>\n",
       "    <tr>\n",
       "      <th>21609</th>\n",
       "      <td>6600060120</td>\n",
       "      <td>20150223T000000</td>\n",
       "      <td>400,000</td>\n",
       "      <td>4</td>\n",
       "      <td>2</td>\n",
       "      <td>2310</td>\n",
       "      <td>5813</td>\n",
       "      <td>2</td>\n",
       "      <td>0</td>\n",
       "      <td>0</td>\n",
       "      <td>3</td>\n",
       "      <td>8</td>\n",
       "      <td>2310</td>\n",
       "      <td>0</td>\n",
       "      <td>2014</td>\n",
       "      <td>0</td>\n",
       "      <td>98146</td>\n",
       "      <td>48</td>\n",
       "      <td>-122</td>\n",
       "      <td>1830</td>\n",
       "      <td>7200</td>\n",
       "    </tr>\n",
       "    <tr>\n",
       "      <th>21610</th>\n",
       "      <td>1523300141</td>\n",
       "      <td>20140623T000000</td>\n",
       "      <td>402,101</td>\n",
       "      <td>2</td>\n",
       "      <td>1</td>\n",
       "      <td>1020</td>\n",
       "      <td>1350</td>\n",
       "      <td>2</td>\n",
       "      <td>0</td>\n",
       "      <td>0</td>\n",
       "      <td>3</td>\n",
       "      <td>7</td>\n",
       "      <td>1020</td>\n",
       "      <td>0</td>\n",
       "      <td>2009</td>\n",
       "      <td>0</td>\n",
       "      <td>98144</td>\n",
       "      <td>48</td>\n",
       "      <td>-122</td>\n",
       "      <td>1020</td>\n",
       "      <td>2007</td>\n",
       "    </tr>\n",
       "    <tr>\n",
       "      <th>21611</th>\n",
       "      <td>291310100</td>\n",
       "      <td>20150116T000000</td>\n",
       "      <td>400,000</td>\n",
       "      <td>3</td>\n",
       "      <td>2</td>\n",
       "      <td>1600</td>\n",
       "      <td>2388</td>\n",
       "      <td>2</td>\n",
       "      <td>0</td>\n",
       "      <td>0</td>\n",
       "      <td>3</td>\n",
       "      <td>8</td>\n",
       "      <td>1600</td>\n",
       "      <td>0</td>\n",
       "      <td>2004</td>\n",
       "      <td>0</td>\n",
       "      <td>98027</td>\n",
       "      <td>48</td>\n",
       "      <td>-122</td>\n",
       "      <td>1410</td>\n",
       "      <td>1287</td>\n",
       "    </tr>\n",
       "    <tr>\n",
       "      <th>21612</th>\n",
       "      <td>1523300157</td>\n",
       "      <td>20141015T000000</td>\n",
       "      <td>325,000</td>\n",
       "      <td>2</td>\n",
       "      <td>1</td>\n",
       "      <td>1020</td>\n",
       "      <td>1076</td>\n",
       "      <td>2</td>\n",
       "      <td>0</td>\n",
       "      <td>0</td>\n",
       "      <td>3</td>\n",
       "      <td>7</td>\n",
       "      <td>1020</td>\n",
       "      <td>0</td>\n",
       "      <td>2008</td>\n",
       "      <td>0</td>\n",
       "      <td>98144</td>\n",
       "      <td>48</td>\n",
       "      <td>-122</td>\n",
       "      <td>1020</td>\n",
       "      <td>1357</td>\n",
       "    </tr>\n",
       "  </tbody>\n",
       "</table>\n",
       "<p>21613 rows × 21 columns</p>\n",
       "</div>"
      ],
      "text/plain": [
       "               id             date   price  ...  long  sqft_living15  sqft_lot15\n",
       "0      7129300520  20141013T000000 221,900  ...  -122           1340        5650\n",
       "1      6414100192  20141209T000000 538,000  ...  -122           1690        7639\n",
       "2      5631500400  20150225T000000 180,000  ...  -122           2720        8062\n",
       "3      2487200875  20141209T000000 604,000  ...  -122           1360        5000\n",
       "4      1954400510  20150218T000000 510,000  ...  -122           1800        7503\n",
       "...           ...              ...     ...  ...   ...            ...         ...\n",
       "21608   263000018  20140521T000000 360,000  ...  -122           1530        1509\n",
       "21609  6600060120  20150223T000000 400,000  ...  -122           1830        7200\n",
       "21610  1523300141  20140623T000000 402,101  ...  -122           1020        2007\n",
       "21611   291310100  20150116T000000 400,000  ...  -122           1410        1287\n",
       "21612  1523300157  20141015T000000 325,000  ...  -122           1020        1357\n",
       "\n",
       "[21613 rows x 21 columns]"
      ]
     },
     "execution_count": 3,
     "metadata": {
      "tags": []
     },
     "output_type": "execute_result"
    }
   ],
   "source": [
    "#conevrting data column into float type\n",
    "pd.options.display.float_format = '{:,.0f}'.format\n",
    "data"
   ]
  },
  {
   "cell_type": "code",
   "execution_count": 4,
   "metadata": {
    "colab": {
     "base_uri": "https://localhost:8080/",
     "height": 443
    },
    "colab_type": "code",
    "id": "rC7oHKYMX3mC",
    "outputId": "b7695509-aede-46f6-b59a-d23ee50e6bbc"
   },
   "outputs": [
    {
     "data": {
      "text/html": [
       "<div>\n",
       "<style scoped>\n",
       "    .dataframe tbody tr th:only-of-type {\n",
       "        vertical-align: middle;\n",
       "    }\n",
       "\n",
       "    .dataframe tbody tr th {\n",
       "        vertical-align: top;\n",
       "    }\n",
       "\n",
       "    .dataframe thead th {\n",
       "        text-align: right;\n",
       "    }\n",
       "</style>\n",
       "<table border=\"1\" class=\"dataframe\">\n",
       "  <thead>\n",
       "    <tr style=\"text-align: right;\">\n",
       "      <th></th>\n",
       "      <th>id</th>\n",
       "      <th>date</th>\n",
       "      <th>price</th>\n",
       "      <th>bedrooms</th>\n",
       "      <th>bathrooms</th>\n",
       "      <th>sqft_living</th>\n",
       "      <th>sqft_lot</th>\n",
       "      <th>floors</th>\n",
       "      <th>waterfront</th>\n",
       "      <th>view</th>\n",
       "      <th>condition</th>\n",
       "      <th>grade</th>\n",
       "      <th>sqft_above</th>\n",
       "      <th>sqft_basement</th>\n",
       "      <th>yr_built</th>\n",
       "      <th>yr_renovated</th>\n",
       "      <th>zipcode</th>\n",
       "      <th>lat</th>\n",
       "      <th>long</th>\n",
       "      <th>sqft_living15</th>\n",
       "      <th>sqft_lot15</th>\n",
       "    </tr>\n",
       "  </thead>\n",
       "  <tbody>\n",
       "    <tr>\n",
       "      <th>0</th>\n",
       "      <td>7129300520</td>\n",
       "      <td>20141013</td>\n",
       "      <td>221,900</td>\n",
       "      <td>3</td>\n",
       "      <td>1</td>\n",
       "      <td>1180</td>\n",
       "      <td>5650</td>\n",
       "      <td>1</td>\n",
       "      <td>0</td>\n",
       "      <td>0</td>\n",
       "      <td>3</td>\n",
       "      <td>7</td>\n",
       "      <td>1180</td>\n",
       "      <td>0</td>\n",
       "      <td>1955</td>\n",
       "      <td>0</td>\n",
       "      <td>98178</td>\n",
       "      <td>48</td>\n",
       "      <td>-122</td>\n",
       "      <td>1340</td>\n",
       "      <td>5650</td>\n",
       "    </tr>\n",
       "    <tr>\n",
       "      <th>1</th>\n",
       "      <td>6414100192</td>\n",
       "      <td>20141209</td>\n",
       "      <td>538,000</td>\n",
       "      <td>3</td>\n",
       "      <td>2</td>\n",
       "      <td>2570</td>\n",
       "      <td>7242</td>\n",
       "      <td>2</td>\n",
       "      <td>0</td>\n",
       "      <td>0</td>\n",
       "      <td>3</td>\n",
       "      <td>7</td>\n",
       "      <td>2170</td>\n",
       "      <td>400</td>\n",
       "      <td>1951</td>\n",
       "      <td>1991</td>\n",
       "      <td>98125</td>\n",
       "      <td>48</td>\n",
       "      <td>-122</td>\n",
       "      <td>1690</td>\n",
       "      <td>7639</td>\n",
       "    </tr>\n",
       "    <tr>\n",
       "      <th>2</th>\n",
       "      <td>5631500400</td>\n",
       "      <td>20150225</td>\n",
       "      <td>180,000</td>\n",
       "      <td>2</td>\n",
       "      <td>1</td>\n",
       "      <td>770</td>\n",
       "      <td>10000</td>\n",
       "      <td>1</td>\n",
       "      <td>0</td>\n",
       "      <td>0</td>\n",
       "      <td>3</td>\n",
       "      <td>6</td>\n",
       "      <td>770</td>\n",
       "      <td>0</td>\n",
       "      <td>1933</td>\n",
       "      <td>0</td>\n",
       "      <td>98028</td>\n",
       "      <td>48</td>\n",
       "      <td>-122</td>\n",
       "      <td>2720</td>\n",
       "      <td>8062</td>\n",
       "    </tr>\n",
       "    <tr>\n",
       "      <th>3</th>\n",
       "      <td>2487200875</td>\n",
       "      <td>20141209</td>\n",
       "      <td>604,000</td>\n",
       "      <td>4</td>\n",
       "      <td>3</td>\n",
       "      <td>1960</td>\n",
       "      <td>5000</td>\n",
       "      <td>1</td>\n",
       "      <td>0</td>\n",
       "      <td>0</td>\n",
       "      <td>5</td>\n",
       "      <td>7</td>\n",
       "      <td>1050</td>\n",
       "      <td>910</td>\n",
       "      <td>1965</td>\n",
       "      <td>0</td>\n",
       "      <td>98136</td>\n",
       "      <td>48</td>\n",
       "      <td>-122</td>\n",
       "      <td>1360</td>\n",
       "      <td>5000</td>\n",
       "    </tr>\n",
       "    <tr>\n",
       "      <th>4</th>\n",
       "      <td>1954400510</td>\n",
       "      <td>20150218</td>\n",
       "      <td>510,000</td>\n",
       "      <td>3</td>\n",
       "      <td>2</td>\n",
       "      <td>1680</td>\n",
       "      <td>8080</td>\n",
       "      <td>1</td>\n",
       "      <td>0</td>\n",
       "      <td>0</td>\n",
       "      <td>3</td>\n",
       "      <td>8</td>\n",
       "      <td>1680</td>\n",
       "      <td>0</td>\n",
       "      <td>1987</td>\n",
       "      <td>0</td>\n",
       "      <td>98074</td>\n",
       "      <td>48</td>\n",
       "      <td>-122</td>\n",
       "      <td>1800</td>\n",
       "      <td>7503</td>\n",
       "    </tr>\n",
       "    <tr>\n",
       "      <th>...</th>\n",
       "      <td>...</td>\n",
       "      <td>...</td>\n",
       "      <td>...</td>\n",
       "      <td>...</td>\n",
       "      <td>...</td>\n",
       "      <td>...</td>\n",
       "      <td>...</td>\n",
       "      <td>...</td>\n",
       "      <td>...</td>\n",
       "      <td>...</td>\n",
       "      <td>...</td>\n",
       "      <td>...</td>\n",
       "      <td>...</td>\n",
       "      <td>...</td>\n",
       "      <td>...</td>\n",
       "      <td>...</td>\n",
       "      <td>...</td>\n",
       "      <td>...</td>\n",
       "      <td>...</td>\n",
       "      <td>...</td>\n",
       "      <td>...</td>\n",
       "    </tr>\n",
       "    <tr>\n",
       "      <th>21608</th>\n",
       "      <td>263000018</td>\n",
       "      <td>20140521</td>\n",
       "      <td>360,000</td>\n",
       "      <td>3</td>\n",
       "      <td>2</td>\n",
       "      <td>1530</td>\n",
       "      <td>1131</td>\n",
       "      <td>3</td>\n",
       "      <td>0</td>\n",
       "      <td>0</td>\n",
       "      <td>3</td>\n",
       "      <td>8</td>\n",
       "      <td>1530</td>\n",
       "      <td>0</td>\n",
       "      <td>2009</td>\n",
       "      <td>0</td>\n",
       "      <td>98103</td>\n",
       "      <td>48</td>\n",
       "      <td>-122</td>\n",
       "      <td>1530</td>\n",
       "      <td>1509</td>\n",
       "    </tr>\n",
       "    <tr>\n",
       "      <th>21609</th>\n",
       "      <td>6600060120</td>\n",
       "      <td>20150223</td>\n",
       "      <td>400,000</td>\n",
       "      <td>4</td>\n",
       "      <td>2</td>\n",
       "      <td>2310</td>\n",
       "      <td>5813</td>\n",
       "      <td>2</td>\n",
       "      <td>0</td>\n",
       "      <td>0</td>\n",
       "      <td>3</td>\n",
       "      <td>8</td>\n",
       "      <td>2310</td>\n",
       "      <td>0</td>\n",
       "      <td>2014</td>\n",
       "      <td>0</td>\n",
       "      <td>98146</td>\n",
       "      <td>48</td>\n",
       "      <td>-122</td>\n",
       "      <td>1830</td>\n",
       "      <td>7200</td>\n",
       "    </tr>\n",
       "    <tr>\n",
       "      <th>21610</th>\n",
       "      <td>1523300141</td>\n",
       "      <td>20140623</td>\n",
       "      <td>402,101</td>\n",
       "      <td>2</td>\n",
       "      <td>1</td>\n",
       "      <td>1020</td>\n",
       "      <td>1350</td>\n",
       "      <td>2</td>\n",
       "      <td>0</td>\n",
       "      <td>0</td>\n",
       "      <td>3</td>\n",
       "      <td>7</td>\n",
       "      <td>1020</td>\n",
       "      <td>0</td>\n",
       "      <td>2009</td>\n",
       "      <td>0</td>\n",
       "      <td>98144</td>\n",
       "      <td>48</td>\n",
       "      <td>-122</td>\n",
       "      <td>1020</td>\n",
       "      <td>2007</td>\n",
       "    </tr>\n",
       "    <tr>\n",
       "      <th>21611</th>\n",
       "      <td>291310100</td>\n",
       "      <td>20150116</td>\n",
       "      <td>400,000</td>\n",
       "      <td>3</td>\n",
       "      <td>2</td>\n",
       "      <td>1600</td>\n",
       "      <td>2388</td>\n",
       "      <td>2</td>\n",
       "      <td>0</td>\n",
       "      <td>0</td>\n",
       "      <td>3</td>\n",
       "      <td>8</td>\n",
       "      <td>1600</td>\n",
       "      <td>0</td>\n",
       "      <td>2004</td>\n",
       "      <td>0</td>\n",
       "      <td>98027</td>\n",
       "      <td>48</td>\n",
       "      <td>-122</td>\n",
       "      <td>1410</td>\n",
       "      <td>1287</td>\n",
       "    </tr>\n",
       "    <tr>\n",
       "      <th>21612</th>\n",
       "      <td>1523300157</td>\n",
       "      <td>20141015</td>\n",
       "      <td>325,000</td>\n",
       "      <td>2</td>\n",
       "      <td>1</td>\n",
       "      <td>1020</td>\n",
       "      <td>1076</td>\n",
       "      <td>2</td>\n",
       "      <td>0</td>\n",
       "      <td>0</td>\n",
       "      <td>3</td>\n",
       "      <td>7</td>\n",
       "      <td>1020</td>\n",
       "      <td>0</td>\n",
       "      <td>2008</td>\n",
       "      <td>0</td>\n",
       "      <td>98144</td>\n",
       "      <td>48</td>\n",
       "      <td>-122</td>\n",
       "      <td>1020</td>\n",
       "      <td>1357</td>\n",
       "    </tr>\n",
       "  </tbody>\n",
       "</table>\n",
       "<p>21613 rows × 21 columns</p>\n",
       "</div>"
      ],
      "text/plain": [
       "               id      date   price  ...  long  sqft_living15  sqft_lot15\n",
       "0      7129300520  20141013 221,900  ...  -122           1340        5650\n",
       "1      6414100192  20141209 538,000  ...  -122           1690        7639\n",
       "2      5631500400  20150225 180,000  ...  -122           2720        8062\n",
       "3      2487200875  20141209 604,000  ...  -122           1360        5000\n",
       "4      1954400510  20150218 510,000  ...  -122           1800        7503\n",
       "...           ...       ...     ...  ...   ...            ...         ...\n",
       "21608   263000018  20140521 360,000  ...  -122           1530        1509\n",
       "21609  6600060120  20150223 400,000  ...  -122           1830        7200\n",
       "21610  1523300141  20140623 402,101  ...  -122           1020        2007\n",
       "21611   291310100  20150116 400,000  ...  -122           1410        1287\n",
       "21612  1523300157  20141015 325,000  ...  -122           1020        1357\n",
       "\n",
       "[21613 rows x 21 columns]"
      ]
     },
     "execution_count": 4,
     "metadata": {
      "tags": []
     },
     "output_type": "execute_result"
    }
   ],
   "source": [
    "\n",
    "#formatting the unncessary values in data column\n",
    "data['date']=[x[:8] for x in data['date']]\n",
    "data"
   ]
  },
  {
   "cell_type": "code",
   "execution_count": 0,
   "metadata": {
    "colab": {},
    "colab_type": "code",
    "id": "OCA_m4ONT5Gi"
   },
   "outputs": [],
   "source": [
    "# Partitioning into training and testing\n",
    "N = data.shape[0]\n",
    "ratio = 0.8\n",
    "N1 = int(ratio*N)\n",
    "Train = data[:N1]\n",
    "Test = data[N1:]"
   ]
  },
  {
   "cell_type": "code",
   "execution_count": 0,
   "metadata": {
    "colab": {},
    "colab_type": "code",
    "id": "bxMyllNKT8Uu"
   },
   "outputs": [],
   "source": [
    "if 'condition' in Train.columns:\n",
    "    XTrainA = np.array(Train[Train['condition']=='1']) \n",
    "    XTrainB = np.array(Train[Train['condition']!='1'])"
   ]
  },
  {
   "cell_type": "code",
   "execution_count": 0,
   "metadata": {
    "colab": {},
    "colab_type": "code",
    "id": "Vp-osurGUTKT"
   },
   "outputs": [],
   "source": [
    "if 'condition' in Train.columns:\n",
    "    yTrain = pd.DataFrame(Train['condition'].copy())\n",
    "    del Train['condition']\n",
    "if 'condition' in Test.columns:\n",
    "    yTest = pd.DataFrame(Test['condition'].copy())\n",
    "    del Test['condition']"
   ]
  },
  {
   "cell_type": "code",
   "execution_count": 0,
   "metadata": {
    "colab": {},
    "colab_type": "code",
    "id": "VuarUdJfUcmo"
   },
   "outputs": [],
   "source": [
    "yTrain[yTrain['condition']=='1'] = 1\n",
    "yTrain[yTrain['condition']!=1] = 0\n",
    "yTest[yTest['condition']=='1'] = 1\n",
    "yTest[yTest['condition']!=1] = 0"
   ]
  },
  {
   "cell_type": "code",
   "execution_count": 9,
   "metadata": {
    "colab": {
     "base_uri": "https://localhost:8080/",
     "height": 34
    },
    "colab_type": "code",
    "id": "vrHb56w0UmDN",
    "outputId": "82a74458-c767-4f91-acb0-16eb92b01ae3"
   },
   "outputs": [
    {
     "data": {
      "text/plain": [
       "(17290, 2)"
      ]
     },
     "execution_count": 9,
     "metadata": {
      "tags": []
     },
     "output_type": "execute_result"
    }
   ],
   "source": [
    "notyTrain = (yTrain+1)%2\n",
    "newyTrain = (notyTrain.T.append(yTrain.T)).T\n",
    "newyTrain.shape"
   ]
  },
  {
   "cell_type": "code",
   "execution_count": 10,
   "metadata": {
    "colab": {
     "base_uri": "https://localhost:8080/",
     "height": 34
    },
    "colab_type": "code",
    "id": "LP89IXVlUokY",
    "outputId": "81fd1812-1937-43a9-e94f-7ed69fd0be0a"
   },
   "outputs": [
    {
     "data": {
      "text/plain": [
       "(4323, 2)"
      ]
     },
     "execution_count": 10,
     "metadata": {
      "tags": []
     },
     "output_type": "execute_result"
    }
   ],
   "source": [
    "# Creating dummies for output variable for testing data\n",
    "notyTest = (yTest+1)%2\n",
    "newyTest = (notyTest.T.append(yTest.T)).T\n",
    "newyTest.shape"
   ]
  },
  {
   "cell_type": "markdown",
   "metadata": {
    "colab_type": "text",
    "id": "MFCA617hbaaw"
   },
   "source": [
    "## Plots to Visualize data\n",
    "A plot is a graphical technique for representing a data set, usually as a graph showing the relationship between two or more variables. Graphs are a visual representation of the relationship between variables, which are very useful for humans who can then quickly derive an understanding which may not have come from lists of values.\n",
    "\n",
    "We have plotted the graphs like **replot, boxplot, heatmap, lineplot, catplot, 3d graph**. We plotted graphs between price, bedrooms, bathrooms, sqft_living, sqft_lot, date of purchase, condition for analyzing the data. Relplot is ised to find the relation between bedrooms and price. We plotted boxplot for further understanding. A graph is plotted between bathrooms and price. Heatmap is plotted between all the columns for finding correlation. \n",
    "\n",
    "> A plot is plotted for finding dates vs price. Graphs are plotted for finding the relationship between sqft_living vs price, sqft_lot vs price, condition vs price."
   ]
  },
  {
   "cell_type": "code",
   "execution_count": 0,
   "metadata": {
    "colab": {},
    "colab_type": "code",
    "id": "lTWBflUyUq6r"
   },
   "outputs": [],
   "source": [
    "import matplotlib.pyplot as plt\n",
    "%matplotlib inline"
   ]
  },
  {
   "cell_type": "code",
   "execution_count": 12,
   "metadata": {
    "colab": {
     "base_uri": "https://localhost:8080/",
     "height": 386
    },
    "colab_type": "code",
    "id": "rKlhaQCAcM1-",
    "outputId": "012ee6c8-90b9-4ac6-e934-749c0347992b"
   },
   "outputs": [
    {
     "data": {
      "text/plain": [
       "<seaborn.axisgrid.FacetGrid at 0x7fe914871cf8>"
      ]
     },
     "execution_count": 12,
     "metadata": {
      "tags": []
     },
     "output_type": "execute_result"
    },
    {
     "data": {
      "image/png": "[encoded data removed]",
      "text/plain": [
       "<Figure size 360x360 with 1 Axes>"
      ]
     },
     "metadata": {
      "tags": []
     },
     "output_type": "display_data"
    }
   ],
   "source": [
    "#catplot for condition and price\n",
    "sns.catplot(x='condition',y='price',data=data)"
   ]
  },
  {
   "cell_type": "code",
   "execution_count": 13,
   "metadata": {
    "colab": {
     "base_uri": "https://localhost:8080/",
     "height": 762
    },
    "colab_type": "code",
    "id": "2cS2RP9ybhiD",
    "outputId": "8ce15bdd-0633-4972-a6a7-0efe086efa08"
   },
   "outputs": [
    {
     "data": {
      "text/plain": [
       "<seaborn.axisgrid.FacetGrid at 0x7fe91027e390>"
      ]
     },
     "execution_count": 13,
     "metadata": {
      "tags": []
     },
     "output_type": "execute_result"
    },
    {
     "data": {
      "image/png": "[encoded data removed]",
      "text/plain": [
       "<Figure size 815.1x720 with 1 Axes>"
      ]
     },
     "metadata": {
      "tags": []
     },
     "output_type": "display_data"
    }
   ],
   "source": [
    "#replot for bedrooms and price\n",
    "sns.set(style='white')\n",
    "sns.relplot(x='bedrooms',y='price',hue='bedrooms',alpha=0.7,height=10,data=data)"
   ]
  },
  {
   "cell_type": "code",
   "execution_count": 14,
   "metadata": {
    "colab": {
     "base_uri": "https://localhost:8080/",
     "height": 648
    },
    "colab_type": "code",
    "id": "lr5idZnTb3UZ",
    "outputId": "11d67338-42ec-44e9-d3c8-d46a447a0b2e"
   },
   "outputs": [
    {
     "data": {
      "text/plain": [
       "<matplotlib.axes._subplots.AxesSubplot at 0x7fe90fd80940>"
      ]
     },
     "execution_count": 14,
     "metadata": {
      "tags": []
     },
     "output_type": "execute_result"
    },
    {
     "data": {
      "image/png": "[encoded data removed]",
      "text/plain": [
       "<Figure size 1008x720 with 1 Axes>"
      ]
     },
     "metadata": {
      "tags": []
     },
     "output_type": "display_data"
    }
   ],
   "source": [
    "#boxplot between bathrooms and price\n",
    "sns.set(style='ticks',palette='muted')\n",
    "fig,ax=plt.subplots(figsize=(14,10))\n",
    "sns.boxplot(x='bathrooms',y='price',palette=[\"b\", \"g\"],data=data,ax=ax)"
   ]
  },
  {
   "cell_type": "code",
   "execution_count": 15,
   "metadata": {
    "colab": {
     "base_uri": "https://localhost:8080/",
     "height": 1000
    },
    "colab_type": "code",
    "id": "byGG0W08UucA",
    "outputId": "47cb20b5-d9af-480c-c1c5-672d6d91a076"
   },
   "outputs": [
    {
     "data": {
      "text/plain": [
       "<matplotlib.axes._subplots.AxesSubplot at 0x7fe90fcd0e48>"
      ]
     },
     "execution_count": 15,
     "metadata": {
      "tags": []
     },
     "output_type": "execute_result"
    },
    {
     "data": {
      "image/png": "[encoded data removed]",
      "text/plain": [
       "<Figure size 1152x1152 with 2 Axes>"
      ]
     },
     "metadata": {
      "tags": []
     },
     "output_type": "display_data"
    }
   ],
   "source": [
    "import seaborn as sb\n",
    "plt.figure(figsize=(16,16))\n",
    "sb.heatmap(Train.corr())"
   ]
  },
  {
   "cell_type": "markdown",
   "metadata": {
    "colab_type": "text",
    "id": "r3cL-UQMcYtr"
   },
   "source": [
    "# Preliminary Observation\n",
    "\n",
    "After observing the data and graphs carefully, we can observe that the price is mostly dependent on the location, no of bedrooms, bathrooms, sqft living, sqft lot, floors, condition. We can note a few points:\n",
    "\n",
    "(1) The frequency of no of bedrooms=3,4 is higher than any other bedrooms. The price of these are mostly similar, but some have giher price than usual because of the other features like bathrooms, location, etc.\n",
    "\n",
    "(2) The heatmap identifies the correlations between the features which help us in identifying how the features are dependent on each other which cannot be known by seeing the data. (Example: sqft living is dependent on grade of the house)\n",
    "\n",
    "(3) The highest priced houses are sold in months: 9th to 11th. This shows people tend to spend more money on houses which are having more comforts in winter.\n",
    "\n",
    "(4) Most of the houses have sqft living in between 500 to 6000 irrespective of no of bedrooms. The higer the living space, the higher is the cost.\n",
    "\n",
    "(5) Price of the house is also dependent on sqft of lot (parking) as most people own their own car.\n",
    "\n",
    "(6) People are tending to pay less if the condition of the house is bad. They are spending more if the house is in good condition.\n",
    "\n",
    "(7) The 3d plot gives relationship between multiple features."
   ]
  },
  {
   "cell_type": "markdown",
   "metadata": {
    "colab_type": "text",
    "id": "4UJ0R5xicjy4"
   },
   "source": [
    "# III. Methods\n",
    "\n",
    "In this assignment, you are build a deep network with more than 5 layers using TensorFlow. \n",
    "Looking at the chart below, get some idea about how you can construct your networks for what problem and why you pick your structure. \n",
    "\n",
    "- Pick at least 3 different networks for experiments.\n",
    "- Summarize the choice of your networks. \n",
    "- Explain your TensorFlow codes. \n",
    "- Explain how you apply your model to your data. \n",
    "\n",
    "Following images are only for you to get some idea. You do not necessarily stick with these. You can come up with your own structure or shape. \n"
   ]
  },
  {
   "cell_type": "markdown",
   "metadata": {
    "colab_type": "text",
    "id": "cduf-enUcohU"
   },
   "source": [
    "## Explanation of the choice for 3 different neural network structures and reason for the selection\n",
    "\n",
    "The input layer consists of various 16 number of features in X. Output layer consists of 2 units i.e., whether the condition is '1' or not. Since we are not dealing with images, 1 or 2 layers will be sufficient for general binary classification with 16 features. But we will be checking this problem with 5, 6 and 7 hidden layers.\n",
    "\n",
    "### Network1\n",
    "\n",
    "In the first network, there are 5 hidden layers. The number of nodes in each layer gradually decreases by each layer from input to output. The first, second, third, fourth and fifth hidden layers consists of 12, 10, 8, 6, 4 units respectively. One of the reason for choosing such network is because of the higher number of features when compared to output classes. Here, the input features are gradually generalized and each consecutive layer comes up with fewer units. At the end, we end up with output layer with 2 units."
   ]
  },
  {
   "cell_type": "code",
   "execution_count": 0,
   "metadata": {
    "colab": {},
    "colab_type": "code",
    "id": "ZPT-xAruUwAx"
   },
   "outputs": [],
   "source": [
    "#Defining network\n",
    "def network1(x, weights, biases, keep_prob):\n",
    "    layer_1 = tf.add(tf.matmul(x, weights['hid1']), biases['bias1'])\n",
    "    layer_1 = tf.nn.relu(layer_1)\n",
    "    layer_1 = tf.nn.dropout(layer_1, keep_prob)\n",
    "    layer_2 = tf.add(tf.matmul(layer_1, weights['hid2']), biases['bias2'])\n",
    "    layer_2 = tf.nn.relu(layer_2)\n",
    "    layer_2 = tf.nn.dropout(layer_2, keep_prob)\n",
    "    layer_3 = tf.add(tf.matmul(layer_2, weights['hid3']), biases['bias3'])\n",
    "    layer_3 = tf.nn.relu(layer_3)\n",
    "    layer_3 = tf.nn.dropout(layer_3, keep_prob)\n",
    "    layer_4 = tf.add(tf.matmul(layer_3, weights['hid4']), biases['bias4'])\n",
    "    layer_4 = tf.nn.relu(layer_4)\n",
    "    layer_4 = tf.nn.dropout(layer_4, keep_prob)\n",
    "    layer_5 = tf.add(tf.matmul(layer_4, weights['hid5']), biases['bias5'])\n",
    "    layer_5 = tf.nn.relu(layer_5)\n",
    "    layer_5 = tf.nn.dropout(layer_5, keep_prob)\n",
    "    output_layer = tf.matmul(layer_5, weights['out']) + biases['out']\n",
    "    return output_layer"
   ]
  },
  {
   "cell_type": "code",
   "execution_count": 0,
   "metadata": {
    "colab": {},
    "colab_type": "code",
    "id": "M65EqG6uU4qc"
   },
   "outputs": [],
   "source": [
    "#Initializing number of units for each layer\n",
    "n_hidden_1 = 12\n",
    "n_hidden_2 = 10\n",
    "n_hidden_3 = 8\n",
    "n_hidden_4 = 6\n",
    "n_hidden_5 = 4\n",
    "n_input = Train.shape[1]\n",
    "n_classes = newyTrain.shape[1]\n",
    "#Initializing Weights with random values\n",
    "weights = {\n",
    "    'hid1': tf.Variable(tf.random_normal([n_input, n_hidden_1])),\n",
    "    'hid2': tf.Variable(tf.random_normal([n_hidden_1, n_hidden_2])),\n",
    "    'hid3': tf.Variable(tf.random_normal([n_hidden_2, n_hidden_3])),\n",
    "    'hid4': tf.Variable(tf.random_normal([n_hidden_3, n_hidden_4])),\n",
    "    'hid5': tf.Variable(tf.random_normal([n_hidden_4, n_hidden_5])),\n",
    "    'out': tf.Variable(tf.random_normal([n_hidden_5, n_classes]))\n",
    "}\n",
    "#Initializing biases with random values\n",
    "biases = {\n",
    "    'bias1': tf.Variable(tf.random_normal([n_hidden_1])),\n",
    "    'bias2': tf.Variable(tf.random_normal([n_hidden_2])),\n",
    "    'bias3': tf.Variable(tf.random_normal([n_hidden_3])),\n",
    "    'bias4': tf.Variable(tf.random_normal([n_hidden_4])),\n",
    "    'bias5': tf.Variable(tf.random_normal([n_hidden_5])),\n",
    "    'out': tf.Variable(tf.random_normal([n_classes]))\n",
    "}\n",
    "\n",
    "keep_prob = tf.placeholder(\"float\")"
   ]
  },
  {
   "cell_type": "code",
   "execution_count": 0,
   "metadata": {
    "colab": {},
    "colab_type": "code",
    "id": "wYLHVwoDVFyo"
   },
   "outputs": [],
   "source": [
    "# Initialize parameters\n",
    "training_epochs = 50\n",
    "view = 10\n",
    "batch_size = 64\n",
    "\n",
    "x = tf.placeholder(\"float\", [None, n_input])\n",
    "y = tf.placeholder(\"float\", [None, n_classes])"
   ]
  },
  {
   "cell_type": "code",
   "execution_count": 19,
   "metadata": {
    "colab": {
     "base_uri": "https://localhost:8080/",
     "height": 89
    },
    "colab_type": "code",
    "id": "niL0gQIUVIjN",
    "outputId": "d45e4c4b-6190-4b64-cc16-5b2682a5e63f"
   },
   "outputs": [
    {
     "name": "stdout",
     "output_type": "stream",
     "text": [
      "WARNING:tensorflow:From <ipython-input-16-0520df820fc2>:4: calling dropout (from tensorflow.python.ops.nn_ops) with keep_prob is deprecated and will be removed in a future version.\n",
      "Instructions for updating:\n",
      "Please use `rate` instead of `keep_prob`. Rate should be set to `rate = 1 - keep_prob`.\n"
     ]
    }
   ],
   "source": [
    "predictions = network1(x, weights, biases, keep_prob)"
   ]
  },
  {
   "cell_type": "code",
   "execution_count": 20,
   "metadata": {
    "colab": {
     "base_uri": "https://localhost:8080/",
     "height": 175
    },
    "colab_type": "code",
    "id": "wSRvAZm1VKKL",
    "outputId": "7bcd29f6-9b7a-4dd2-89c7-06a7a89eefeb"
   },
   "outputs": [
    {
     "name": "stdout",
     "output_type": "stream",
     "text": [
      "WARNING:tensorflow:From <ipython-input-20-7b0878f586d9>:1: softmax_cross_entropy_with_logits (from tensorflow.python.ops.nn_ops) is deprecated and will be removed in a future version.\n",
      "Instructions for updating:\n",
      "\n",
      "Future major versions of TensorFlow will allow gradients to flow\n",
      "into the labels input on backprop by default.\n",
      "\n",
      "See `tf.nn.softmax_cross_entropy_with_logits_v2`.\n",
      "\n"
     ]
    }
   ],
   "source": [
    "cost = tf.reduce_mean(tf.nn.softmax_cross_entropy_with_logits(logits=predictions, labels=y)) "
   ]
  },
  {
   "cell_type": "code",
   "execution_count": 0,
   "metadata": {
    "colab": {},
    "colab_type": "code",
    "id": "wqbmLia-VNmW"
   },
   "outputs": [],
   "source": [
    "optimizer = tf.train.AdamOptimizer(learning_rate=0.0001).minimize(cost) # Using Adamoptimizer"
   ]
  },
  {
   "cell_type": "code",
   "execution_count": 22,
   "metadata": {
    "colab": {
     "base_uri": "https://localhost:8080/",
     "height": 417
    },
    "colab_type": "code",
    "id": "O7dN8sOFVP2i",
    "outputId": "481ec675-a22f-4191-e9bd-265812069f4f"
   },
   "outputs": [
    {
     "name": "stdout",
     "output_type": "stream",
     "text": [
      "Epoch:  1 cost= 114763894.50529362\n",
      "Epoch: 11 cost= 45484255.92691908\n",
      "Epoch: 21 cost= 26907459.10815820\n",
      "Epoch: 31 cost= 12253874.31042238\n",
      "Epoch: 41 cost= 3634177.81317634\n",
      "Optimization Finished!\n",
      "Accuracy: 0.9988434\n"
     ]
    },
    {
     "data": {
      "image/png": "[encoded data removed]",
      "text/plain": [
       "<Figure size 432x288 with 1 Axes>"
      ]
     },
     "metadata": {
      "tags": []
     },
     "output_type": "display_data"
    }
   ],
   "source": [
    "# Session block\n",
    "with tf.Session() as sess:\n",
    "    sess.run(tf.global_variables_initializer())\n",
    "    epochcost = np.zeros(training_epochs)\n",
    "    accuracyarray = np.zeros(training_epochs)\n",
    "    for epoch in range(training_epochs):\n",
    "        avg_cost = 0.0\n",
    "        partitions = int(len(Train) / batch_size)\n",
    "        # Create batches of data\n",
    "        x_batches = np.array_split(Train, partitions)\n",
    "        y_batches = np.array_split(newyTrain, partitions)\n",
    "        for i in range(partitions):\n",
    "            batch_x, batch_y = x_batches[i], y_batches[i]\n",
    "            _, c = sess.run([optimizer, cost], \n",
    "                            feed_dict={\n",
    "                                x: batch_x, \n",
    "                                y: batch_y, \n",
    "                                keep_prob: 0.8})\n",
    "            avg_cost += c / partitions\n",
    "        #Displaying for n epochs\n",
    "        if epoch % view == 0:\n",
    "            print(\"Epoch:\", '%2d' % (epoch+1), \"cost=\", \\\n",
    "                \"{:.8f}\".format(avg_cost))\n",
    "        #Store cost value for each epoch\n",
    "        epochcost[epoch] = avg_cost\n",
    "        correct_prediction = tf.equal(tf.argmax(predictions, 1), tf.argmax(y, 1))\n",
    "        #Store cost value for each epoch\n",
    "        accuracy = tf.reduce_mean(tf.cast(correct_prediction, \"float\"))\n",
    "        accuracyarray[epoch] =  accuracy.eval({x: Test, y: newyTest, keep_prob: 1.0})\n",
    "    print(\"Optimization Finished!\")\n",
    "    correct_prediction = tf.equal(tf.argmax(predictions, 1), tf.argmax(y, 1))\n",
    "    accuracy = tf.reduce_mean(tf.cast(correct_prediction, \"float\"))\n",
    "    print(\"Accuracy:\", accuracy.eval({x: Test, y: newyTest, keep_prob: 1.0}))\n",
    "    #Display cost graph\n",
    "    plt.plot(epochcost)\n",
    "    plt.xlabel('No. of epochs')\n",
    "    plt.ylabel('Cost')"
   ]
  },
  {
   "cell_type": "code",
   "execution_count": 23,
   "metadata": {
    "colab": {
     "base_uri": "https://localhost:8080/",
     "height": 302
    },
    "colab_type": "code",
    "id": "g1MtcAG8VS9s",
    "outputId": "afa94c14-8602-498e-cda2-f8e75945b548"
   },
   "outputs": [
    {
     "data": {
      "text/plain": [
       "Text(0, 0.5, 'Accuracy')"
      ]
     },
     "execution_count": 23,
     "metadata": {
      "tags": []
     },
     "output_type": "execute_result"
    },
    {
     "data": {
      "image/png": "[encoded data removed]",
      "text/plain": [
       "<Figure size 432x288 with 1 Axes>"
      ]
     },
     "metadata": {
      "tags": []
     },
     "output_type": "display_data"
    }
   ],
   "source": [
    "#Display accuracy graph\n",
    "plt.plot(accuracyarray)\n",
    "plt.xlabel('No. of epochs')\n",
    "plt.ylabel('Accuracy')"
   ]
  },
  {
   "cell_type": "markdown",
   "metadata": {
    "colab_type": "text",
    "id": "M9QbVJXhcv4c"
   },
   "source": [
    "### Network2\n",
    "\n",
    "In the second network, the number of nodes are initially increased until the middle of the network and then gradually decreased.\n",
    "The first, second, third, fourth, fifth and sixth hidden layers consists of 20, 24, 20, 16, 8 and 4 units respectively. This is to be done when we have very less features. If we assume the middle layer as input layer, we observe from the middle of the network, it looks similar to the first network with decreasing units in each layer. So, the number of features are increased so that we can have better data which results in a good model."
   ]
  },
  {
   "cell_type": "code",
   "execution_count": 0,
   "metadata": {
    "colab": {},
    "colab_type": "code",
    "id": "XncUlWX-Y-yd"
   },
   "outputs": [],
   "source": [
    "def network2(x, weights, biases, keep_prob):\n",
    "    layer_1 = tf.add(tf.matmul(x, weights['hid1']), biases['bias1'])\n",
    "    layer_1 = tf.nn.relu(layer_1)\n",
    "    layer_1 = tf.nn.dropout(layer_1, keep_prob)\n",
    "    layer_2 = tf.add(tf.matmul(layer_1, weights['hid2']), biases['bias2'])\n",
    "    layer_2 = tf.nn.relu(layer_2)\n",
    "    layer_2 = tf.nn.dropout(layer_2, keep_prob)\n",
    "    layer_3 = tf.add(tf.matmul(layer_2, weights['hid3']), biases['bias3'])\n",
    "    layer_3 = tf.nn.relu(layer_3)\n",
    "    layer_3 = tf.nn.dropout(layer_3, keep_prob)\n",
    "    layer_4 = tf.add(tf.matmul(layer_3, weights['hid4']), biases['bias4'])\n",
    "    layer_4 = tf.nn.relu(layer_4)\n",
    "    layer_4 = tf.nn.dropout(layer_4, keep_prob)\n",
    "    layer_5 = tf.add(tf.matmul(layer_4, weights['hid5']), biases['bias5'])\n",
    "    layer_5 = tf.nn.relu(layer_5)\n",
    "    layer_5 = tf.nn.dropout(layer_5, keep_prob)\n",
    "    layer_6 = tf.add(tf.matmul(layer_5, weights['hid6']), biases['bias6'])\n",
    "    layer_6 = tf.nn.relu(layer_6)\n",
    "    layer_6 = tf.nn.dropout(layer_6, keep_prob)\n",
    "    output_layer = tf.matmul(layer_6, weights['out']) + biases['out']\n",
    "    return output_layer"
   ]
  },
  {
   "cell_type": "code",
   "execution_count": 0,
   "metadata": {
    "colab": {},
    "colab_type": "code",
    "id": "c6sWqaMjY_U6"
   },
   "outputs": [],
   "source": [
    "n_hidden_1 = 20\n",
    "n_hidden_2 = 24\n",
    "n_hidden_3 = 20\n",
    "n_hidden_4 = 16\n",
    "n_hidden_5 = 8\n",
    "n_hidden_6 = 4\n",
    "n_input = Train.shape[1]\n",
    "n_classes = newyTrain.shape[1]\n",
    "\n",
    "weights = {\n",
    "    'hid1': tf.Variable(tf.random_normal([n_input, n_hidden_1])),\n",
    "    'hid2': tf.Variable(tf.random_normal([n_hidden_1, n_hidden_2])),\n",
    "    'hid3': tf.Variable(tf.random_normal([n_hidden_2, n_hidden_3])),\n",
    "    'hid4': tf.Variable(tf.random_normal([n_hidden_3, n_hidden_4])),\n",
    "    'hid5': tf.Variable(tf.random_normal([n_hidden_4, n_hidden_5])),\n",
    "    'hid6': tf.Variable(tf.random_normal([n_hidden_5, n_hidden_6])),\n",
    "    'out': tf.Variable(tf.random_normal([n_hidden_6, n_classes]))\n",
    "}\n",
    "\n",
    "biases = {\n",
    "    'bias1': tf.Variable(tf.random_normal([n_hidden_1])),\n",
    "    'bias2': tf.Variable(tf.random_normal([n_hidden_2])),\n",
    "    'bias3': tf.Variable(tf.random_normal([n_hidden_3])),\n",
    "    'bias4': tf.Variable(tf.random_normal([n_hidden_4])),\n",
    "    'bias5': tf.Variable(tf.random_normal([n_hidden_5])),\n",
    "    'bias6': tf.Variable(tf.random_normal([n_hidden_6])),\n",
    "    'out': tf.Variable(tf.random_normal([n_classes]))\n",
    "}\n",
    "\n",
    "keep_prob = tf.placeholder(\"float\")"
   ]
  },
  {
   "cell_type": "code",
   "execution_count": 0,
   "metadata": {
    "colab": {},
    "colab_type": "code",
    "id": "8w8JjqOrZBg_"
   },
   "outputs": [],
   "source": [
    "training_epochs = 50\n",
    "view = 10\n",
    "batch_size = 64\n",
    "\n",
    "x = tf.placeholder(\"float\", [None, n_input])\n",
    "y = tf.placeholder(\"float\", [None, n_classes])"
   ]
  },
  {
   "cell_type": "code",
   "execution_count": 0,
   "metadata": {
    "colab": {},
    "colab_type": "code",
    "id": "T0jwBJxTZDWH"
   },
   "outputs": [],
   "source": [
    "predictions = network2(x, weights, biases, keep_prob)"
   ]
  },
  {
   "cell_type": "code",
   "execution_count": 0,
   "metadata": {
    "colab": {},
    "colab_type": "code",
    "id": "v9BX3tdXZFGO"
   },
   "outputs": [],
   "source": [
    "cost = tf.reduce_mean(tf.nn.softmax_cross_entropy_with_logits(logits=predictions, labels=y))"
   ]
  },
  {
   "cell_type": "code",
   "execution_count": 0,
   "metadata": {
    "colab": {},
    "colab_type": "code",
    "id": "lE3WbHqKZGtd"
   },
   "outputs": [],
   "source": [
    "optimizer = tf.train.AdamOptimizer(learning_rate=0.0001).minimize(cost)"
   ]
  },
  {
   "cell_type": "code",
   "execution_count": 30,
   "metadata": {
    "colab": {
     "base_uri": "https://localhost:8080/",
     "height": 417
    },
    "colab_type": "code",
    "id": "tbvUdDe6ZIKA",
    "outputId": "4c9481d8-5b20-4f90-93cf-925b8087eaa8"
   },
   "outputs": [
    {
     "name": "stdout",
     "output_type": "stream",
     "text": [
      "Epoch:  1 cost= 7933526835442.73242188\n",
      "Epoch: 11 cost= 311939114568.05944824\n",
      "Epoch: 21 cost= 52776409329.60018921\n",
      "Epoch: 31 cost= 18241629312.50496292\n",
      "Epoch: 41 cost= 9345307960.51731682\n",
      "Optimization Finished!\n",
      "Accuracy: 0.9988434\n"
     ]
    },
    {
     "data": {
      "image/png": "[encoded data removed]",
      "text/plain": [
       "<Figure size 432x288 with 1 Axes>"
      ]
     },
     "metadata": {
      "tags": []
     },
     "output_type": "display_data"
    }
   ],
   "source": [
    "with tf.Session() as sess:\n",
    "    sess.run(tf.global_variables_initializer())\n",
    "    epochcost = np.zeros(training_epochs)\n",
    "    accuracyarray = np.zeros(training_epochs)\n",
    "    for epoch in range(training_epochs):\n",
    "        avg_cost = 0.0\n",
    "        partitions = int(len(Train) / batch_size)\n",
    "        x_batches = np.array_split(Train, partitions)\n",
    "        y_batches = np.array_split(newyTrain, partitions)\n",
    "        for i in range(partitions):\n",
    "            batch_x, batch_y = x_batches[i], y_batches[i]\n",
    "            _, c = sess.run([optimizer, cost], \n",
    "                            feed_dict={\n",
    "                                x: batch_x, \n",
    "                                y: batch_y, \n",
    "                                keep_prob: 0.8\n",
    "                            })\n",
    "            avg_cost += c / partitions\n",
    "        if epoch % view == 0:\n",
    "            print(\"Epoch:\", '%2d' % (epoch+1), \"cost=\", \\\n",
    "                \"{:.8f}\".format(avg_cost))\n",
    "        epochcost[epoch] = avg_cost\n",
    "        correct_prediction = tf.equal(tf.argmax(predictions, 1), tf.argmax(y, 1))\n",
    "        accuracy = tf.reduce_mean(tf.cast(correct_prediction, \"float\"))\n",
    "        accuracyarray[epoch] =  accuracy.eval({x: Test, y: newyTest, keep_prob: 1.0})\n",
    "    print(\"Optimization Finished!\")\n",
    "    correct_prediction = tf.equal(tf.argmax(predictions, 1), tf.argmax(y, 1))\n",
    "    accuracy = tf.reduce_mean(tf.cast(correct_prediction, \"float\"))\n",
    "    print(\"Accuracy:\", accuracy.eval({x: Test, y: newyTest, keep_prob: 1.0}))\n",
    "    plt.plot(epochcost)\n",
    "    plt.xlabel('No. of epochs')\n",
    "    plt.ylabel('Cost')"
   ]
  },
  {
   "cell_type": "code",
   "execution_count": 31,
   "metadata": {
    "colab": {
     "base_uri": "https://localhost:8080/",
     "height": 302
    },
    "colab_type": "code",
    "id": "QuyRtNkpZJ5d",
    "outputId": "deead89b-214e-4433-a677-90129b46c4c3"
   },
   "outputs": [
    {
     "data": {
      "text/plain": [
       "Text(0, 0.5, 'Accuracy')"
      ]
     },
     "execution_count": 31,
     "metadata": {
      "tags": []
     },
     "output_type": "execute_result"
    },
    {
     "data": {
      "image/png": "[encoded data removed]",
      "text/plain": [
       "<Figure size 432x288 with 1 Axes>"
      ]
     },
     "metadata": {
      "tags": []
     },
     "output_type": "display_data"
    }
   ],
   "source": [
    "plt.plot(accuracyarray)\n",
    "plt.xlabel('No. of epochs')\n",
    "plt.ylabel('Accuracy')"
   ]
  },
  {
   "cell_type": "markdown",
   "metadata": {
    "colab_type": "text",
    "id": "PJ3W5fljc8nQ"
   },
   "source": [
    "### Network3\n",
    "Here, the number of units in each layer are not gradually decreasing. Instead they are in a zigzag form. One of the reason is that decreasing numbers of hidden units force generalization and reduce the accuracy of the model. The first, second, third, fourth, fifth, sixth and seventh hidden layers consists of 8, 4, 8, 4, 8, 4 and 2 respectively. Here, even we have increased the number of layers to 7 and the average number of units in each layer is 6. This is to check whether the accuracy increases with increase in number of layers."
   ]
  },
  {
   "cell_type": "code",
   "execution_count": 0,
   "metadata": {
    "colab": {},
    "colab_type": "code",
    "id": "He-egIxoZMFr"
   },
   "outputs": [],
   "source": [
    "def network3(x, weights, biases, keep_prob):\n",
    "    layer_1 = tf.add(tf.matmul(x, weights['hid1']), biases['bias1'])\n",
    "    layer_1 = tf.nn.relu(layer_1)\n",
    "    layer_1 = tf.nn.dropout(layer_1, keep_prob)\n",
    "    layer_2 = tf.add(tf.matmul(layer_1, weights['hid2']), biases['bias2'])\n",
    "    layer_2 = tf.nn.relu(layer_2)\n",
    "    layer_2 = tf.nn.dropout(layer_2, keep_prob)\n",
    "    layer_3 = tf.add(tf.matmul(layer_2, weights['hid3']), biases['bias3'])\n",
    "    layer_3 = tf.nn.relu(layer_3)\n",
    "    layer_3 = tf.nn.dropout(layer_3, keep_prob)\n",
    "    layer_4 = tf.add(tf.matmul(layer_3, weights['hid4']), biases['bias4'])\n",
    "    layer_4 = tf.nn.relu(layer_4)\n",
    "    layer_4 = tf.nn.dropout(layer_4, keep_prob)\n",
    "    layer_5 = tf.add(tf.matmul(layer_4, weights['hid5']), biases['bias5'])\n",
    "    layer_5 = tf.nn.relu(layer_5)\n",
    "    layer_5 = tf.nn.dropout(layer_5, keep_prob)\n",
    "    layer_6 = tf.add(tf.matmul(layer_5, weights['hid6']), biases['bias6'])\n",
    "    layer_6 = tf.nn.relu(layer_6)\n",
    "    layer_6 = tf.nn.dropout(layer_6, keep_prob)\n",
    "    layer_7 = tf.add(tf.matmul(layer_6, weights['hid7']), biases['bias7'])\n",
    "    layer_7 = tf.nn.relu(layer_7)\n",
    "    layer_7 = tf.nn.dropout(layer_7, keep_prob)\n",
    "\n",
    "    output_layer = tf.matmul(layer_7, weights['out']) + biases['out']\n",
    "    return output_layer"
   ]
  },
  {
   "cell_type": "code",
   "execution_count": 0,
   "metadata": {
    "colab": {},
    "colab_type": "code",
    "id": "ehHhG12hZqJ5"
   },
   "outputs": [],
   "source": [
    "n_hidden_1 = 8\n",
    "n_hidden_2 = 4\n",
    "n_hidden_3 = 8\n",
    "n_hidden_4 = 4\n",
    "n_hidden_5 = 8\n",
    "n_hidden_6 = 4\n",
    "n_hidden_7 = 2\n",
    "n_input = Train.shape[1]\n",
    "n_classes = newyTrain.shape[1]\n",
    "\n",
    "weights = {\n",
    "    'hid1': tf.Variable(tf.random_normal([n_input, n_hidden_1])),\n",
    "    'hid2': tf.Variable(tf.random_normal([n_hidden_1, n_hidden_2])),\n",
    "    'hid3': tf.Variable(tf.random_normal([n_hidden_2, n_hidden_3])),\n",
    "    'hid4': tf.Variable(tf.random_normal([n_hidden_3, n_hidden_4])),\n",
    "    'hid5': tf.Variable(tf.random_normal([n_hidden_4, n_hidden_5])),\n",
    "    'hid6': tf.Variable(tf.random_normal([n_hidden_5, n_hidden_6])),\n",
    "    'hid7': tf.Variable(tf.random_normal([n_hidden_6, n_hidden_7])),\n",
    "    'out': tf.Variable(tf.random_normal([n_hidden_7, n_classes]))\n",
    "}\n",
    "\n",
    "biases = {\n",
    "    'bias1': tf.Variable(tf.random_normal([n_hidden_1])),\n",
    "    'bias2': tf.Variable(tf.random_normal([n_hidden_2])),\n",
    "    'bias3': tf.Variable(tf.random_normal([n_hidden_3])),\n",
    "    'bias4': tf.Variable(tf.random_normal([n_hidden_4])),\n",
    "    'bias5': tf.Variable(tf.random_normal([n_hidden_5])),\n",
    "    'bias6': tf.Variable(tf.random_normal([n_hidden_6])),\n",
    "    'bias7': tf.Variable(tf.random_normal([n_hidden_7])),\n",
    "    'out': tf.Variable(tf.random_normal([n_classes]))\n",
    "}\n",
    "\n",
    "keep_prob = tf.placeholder(\"float\")"
   ]
  },
  {
   "cell_type": "code",
   "execution_count": 0,
   "metadata": {
    "colab": {},
    "colab_type": "code",
    "id": "63YILhJtZuc-"
   },
   "outputs": [],
   "source": [
    "training_epochs = 50\n",
    "view = 10\n",
    "batch_size = 64\n",
    "\n",
    "x = tf.placeholder(\"float\", [None, n_input])\n",
    "y = tf.placeholder(\"float\", [None, n_classes])"
   ]
  },
  {
   "cell_type": "code",
   "execution_count": 0,
   "metadata": {
    "colab": {},
    "colab_type": "code",
    "id": "9a7SxbG2Zxcw"
   },
   "outputs": [],
   "source": [
    "\n",
    "predictions = network3(x, weights, biases, keep_prob)"
   ]
  },
  {
   "cell_type": "code",
   "execution_count": 0,
   "metadata": {
    "colab": {},
    "colab_type": "code",
    "id": "Alg7Fs_NZ0fm"
   },
   "outputs": [],
   "source": [
    "cost = tf.reduce_mean(tf.nn.softmax_cross_entropy_with_logits(logits=predictions, labels=y))"
   ]
  },
  {
   "cell_type": "code",
   "execution_count": 0,
   "metadata": {
    "colab": {},
    "colab_type": "code",
    "id": "v8unAwe-Z19o"
   },
   "outputs": [],
   "source": [
    "optimizer = tf.train.AdamOptimizer(learning_rate=0.0001).minimize(cost)"
   ]
  },
  {
   "cell_type": "code",
   "execution_count": 38,
   "metadata": {
    "colab": {
     "base_uri": "https://localhost:8080/",
     "height": 417
    },
    "colab_type": "code",
    "id": "6NEIfMmTZ4Xc",
    "outputId": "3e9cc0dd-af32-4f06-f0ba-4732711e8cd9"
   },
   "outputs": [
    {
     "name": "stdout",
     "output_type": "stream",
     "text": [
      "Epoch:  1 cost= 50885732492.32596588\n",
      "Epoch: 11 cost= 2773120236.26260138\n",
      "Epoch: 21 cost= 550175634.85135019\n",
      "Epoch: 31 cost= 143514652.86012843\n",
      "Epoch: 41 cost= 40652616.76530357\n",
      "Optimization Finished!\n",
      "Accuracy: 0.9988434\n"
     ]
    },
    {
     "data": {
      "image/png": "[encoded data removed]",
      "text/plain": [
       "<Figure size 432x288 with 1 Axes>"
      ]
     },
     "metadata": {
      "tags": []
     },
     "output_type": "display_data"
    }
   ],
   "source": [
    "with tf.Session() as sess:\n",
    "    sess.run(tf.global_variables_initializer())\n",
    "    epochcost = np.zeros(training_epochs)\n",
    "    accuracyarray = np.zeros(training_epochs)\n",
    "    for epoch in range(training_epochs):\n",
    "        avg_cost = 0.0\n",
    "        partitions = int(len(Train) / batch_size)\n",
    "        x_batches = np.array_split(Train, partitions)\n",
    "        y_batches = np.array_split(newyTrain, partitions)\n",
    "        for i in range(partitions):\n",
    "            batch_x, batch_y = x_batches[i], y_batches[i]\n",
    "            _, c = sess.run([optimizer, cost], \n",
    "                            feed_dict={\n",
    "                                x: batch_x, \n",
    "                                y: batch_y, \n",
    "                                keep_prob: 0.8\n",
    "                            })\n",
    "            avg_cost += c / partitions\n",
    "        if epoch % view == 0:\n",
    "            print(\"Epoch:\", '%2d' % (epoch+1), \"cost=\", \\\n",
    "                \"{:.8f}\".format(avg_cost))\n",
    "        epochcost[epoch] = avg_cost\n",
    "        correct_prediction = tf.equal(tf.argmax(predictions, 1), tf.argmax(y, 1))\n",
    "        accuracy = tf.reduce_mean(tf.cast(correct_prediction, \"float\"))\n",
    "        accuracyarray[epoch] =  accuracy.eval({x: Test, y: newyTest, keep_prob: 1.0})\n",
    "    print(\"Optimization Finished!\")\n",
    "    correct_prediction = tf.equal(tf.argmax(predictions, 1), tf.argmax(y, 1))\n",
    "    accuracy = tf.reduce_mean(tf.cast(correct_prediction, \"float\"))\n",
    "    print(\"Accuracy:\", accuracy.eval({x: Test, y: newyTest, keep_prob: 1.0}))\n",
    "    plt.plot(epochcost)\n",
    "    plt.xlabel('No. of epochs')\n",
    "    plt.ylabel('Cost')"
   ]
  },
  {
   "cell_type": "code",
   "execution_count": 39,
   "metadata": {
    "colab": {
     "base_uri": "https://localhost:8080/",
     "height": 302
    },
    "colab_type": "code",
    "id": "lbPwh3yqZ51e",
    "outputId": "2d4c7ec4-37b5-4fab-97f7-3b22fff2cdfe"
   },
   "outputs": [
    {
     "data": {
      "text/plain": [
       "Text(0, 0.5, 'Accuracy')"
      ]
     },
     "execution_count": 39,
     "metadata": {
      "tags": []
     },
     "output_type": "execute_result"
    },
    {
     "data": {
      "image/png": "[encoded data removed]",
      "text/plain": [
       "<Figure size 432x288 with 1 Axes>"
      ]
     },
     "metadata": {
      "tags": []
     },
     "output_type": "display_data"
    }
   ],
   "source": [
    "plt.plot(accuracyarray)\n",
    "plt.xlabel('No. of epochs')\n",
    "plt.ylabel('Accuracy')"
   ]
  },
  {
   "cell_type": "code",
   "execution_count": 0,
   "metadata": {
    "colab": {},
    "colab_type": "code",
    "id": "6h7mItsYZ70b"
   },
   "outputs": [],
   "source": []
  },
  {
   "cell_type": "markdown",
   "metadata": {
    "colab_type": "text",
    "id": "83InG7wEdCvB"
   },
   "source": [
    "## Explanation of codes for each structure\n",
    "\n",
    "In three of the cases, at first the network is created with required number of layers. And then weights and biases are randomly initialized. Training epochs and batch size is initialized.\n",
    "\n",
    "### Network1\n",
    "AdamOptimizer is used. The number of units for each hidden layer from 1 to 5 are initiated and the the session is started. Layers are initiated by multiplying the weights with the previous layer.\n",
    "\n",
    "### Network2\n",
    "Learning rate is also initialized. It is same for three of the networks. The number of epochs, optimizer and learning rate is kept constant so that we can examine the results based on just the network. Data is divided based on the batch size. Arrays are initiated to store values of accuracy and cost for each epoch. These are updated during each epoch\n",
    "\n",
    "### Network3\n",
    "Instead of calculating the accuracy at the end, cost and accuracy are calculated for each epoch and plotted. The plots are analysed and a detailed description of them is given. Cost is displayed based on display step. "
   ]
  },
  {
   "cell_type": "code",
   "execution_count": 0,
   "metadata": {
    "colab": {},
    "colab_type": "code",
    "id": "xD0ldOl_dFSE"
   },
   "outputs": [],
   "source": []
  },
  {
   "cell_type": "markdown",
   "metadata": {
    "colab_type": "text",
    "id": "jPmVdY8tdLQ_"
   },
   "source": [
    "## Explanation of experimental codes\n",
    "\n",
    "Based on the intiated values, some networks are behaving in a different manner when executed again. The results are changing when we implement it multiple times. Again, while implementing these codes, the exact results may not be reproduced. The learning is also changing for each network based on this. Data is partitioned based on various conditions and different visualizations are done. Matplotlib is used to plot these visualizations. Xlabel and Ylabel attributes are used to display the axis names. The boolean condition inside the dataframe is used to partition the data."
   ]
  },
  {
   "cell_type": "markdown",
   "metadata": {
    "colab_type": "text",
    "id": "GktmE813dOBO"
   },
   "source": [
    "# IV - Results\n",
    "\n",
    "- Presents the results of applications of your deep networks.\n",
    "- Visualize the results \n",
    "- Discuss about the choice of network structures and performance of it as you change the structures.  \n",
    "- What do you think about the results? "
   ]
  },
  {
   "cell_type": "markdown",
   "metadata": {
    "colab_type": "text",
    "id": "1uXkxpFJdREj"
   },
   "source": [
    "## Plots for Results\n",
    "\n",
    "The plot for number of epochs vs cost is plotted for 3 networks while implementing them itself. We can observe that the cost is lesser for the 3rd network with 7 layers with a few epochs itself. In every network, the cost is decreasing with increase in iterations and after some iterations, the decerease in cost is not considerable. Similarly, with increase in number of epochs, the accuracy has been increasing to an extent and after some optimum value it is not increasing. We can observe third network is performing very well in No. of epochs vs Accuracy graph also.\n"
   ]
  },
  {
   "cell_type": "markdown",
   "metadata": {
    "colab_type": "text",
    "id": "6PDlevnBdbwW"
   },
   "source": [
    "## Discussions about the choice of network structures\n",
    "\n",
    "The number of layers in first, second and third network are 5, 6 and 7 respectively. These are selected to inspect the change in accuracy with increase in number of hidden layers. In the first network, the number of units in each hidden layer from input to output are gradually decreasing. In the second network, the number of nodes are initially increased until the middle of the network and then gradually decreased. In the third network, the number of units in each layer are in zigzag form. Number of nodes are increased, decreased and then again increased. Values are stored using numpy arrays at each iteration and then they are plot using matplotlib libraries. At the end, three of them are performing with a good accuracy. But the model with 7 layers is learning quickly. Though after some epochs, all the models are performing similarly.\n"
   ]
  },
  {
   "cell_type": "markdown",
   "metadata": {
    "colab_type": "text",
    "id": "6JSv-kLKdeoM"
   },
   "source": [
    "# Conclusions\n",
    "\n",
    "Discuss the challenges or somethat that you learned. \n",
    "If you have any suggestion about the assignment, you can write about it. \n",
    "\n",
    "1. Through this assignment,learnt a lot about the library tensorflow, how it works its functions and implementation.\n",
    "2. learnt about various neural network structures and their corresponding effect on the accuracy.\n",
    "3. Learnt a lot about the influence of various parameters and learning rate on predicting results\n"
   ]
  },
  {
   "cell_type": "code",
   "execution_count": 0,
   "metadata": {
    "colab": {},
    "colab_type": "code",
    "id": "C8Ca2HXUdfiW"
   },
   "outputs": [],
   "source": []
  }
 ],
 "metadata": {
  "colab": {
   "name": "Untitled0.ipynb",
   "provenance": []
  },
  "kernelspec": {
   "display_name": "Python 3",
   "language": "python",
   "name": "python3"
  },
  "language_info": {
   "codemirror_mode": {
    "name": "ipython",
    "version": 3
   },
   "file_extension": ".py",
   "mimetype": "text/x-python",
   "name": "python",
   "nbconvert_exporter": "python",
   "pygments_lexer": "ipython3",
   "version": "3.7.3"
  }
 },
 "nbformat": 4,
 "nbformat_minor": 1
}
